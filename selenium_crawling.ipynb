{
 "cells": [
  {
   "cell_type": "code",
   "execution_count": 1,
   "id": "d51cfb01-1a6f-4823-9320-df697fac9f1e",
   "metadata": {},
   "outputs": [
    {
     "name": "stdout",
     "output_type": "stream",
     "text": [
      "4.17.2\n"
     ]
    }
   ],
   "source": [
    "import selenium\n",
    "\n",
    "print(selenium.__version__)"
   ]
  },
  {
   "cell_type": "code",
   "execution_count": 5,
   "id": "a3142663-fce4-457c-9132-343dc1651e82",
   "metadata": {},
   "outputs": [],
   "source": [
    "# 크롬 드라이버 세팅\n",
    "from selenium import webdriver\n",
    "from selenium.webdriver.chrome.service import Service\n",
    "from selenium.webdriver.common.by import By\n",
    "\n",
    "CHROME_DRIVER_PATH = './drivers/chromedriver.exe'\n",
    "service = Service(executable_path=CHROME_DRIVER_PATH)\n",
    "options = webdriver.ChromeOptions()\n",
    "driver = webdriver.Chrome(service=service, options=options)\n",
    "\n",
    "URL='https://signal.bz/news'\n",
    "driver.get(url=URL)"
   ]
  },
  {
   "cell_type": "code",
   "execution_count": 6,
   "id": "8253a71f-a117-4409-9e42-a72a0ce16d01",
   "metadata": {},
   "outputs": [
    {
     "name": "stdout",
     "output_type": "stream",
     "text": [
      "문경 공장 안전진단\n",
      "김성수 카카오엔터 대표\n",
      "주호민 아동학대 특수교사\n",
      "한강 리버버스\n",
      "신유빈 김운용 여성체육\n",
      "김지니 이나무\n",
      "바이든 트럼프\n",
      "성범죄 힘찬\n",
      "몰라보겠어 능청 돌연\n",
      "이언주 민주당\n",
      "\n",
      "['문경 공장 안전진단', '김성수 카카오엔터 대표', '주호민 아동학대 특수교사', '한강 리버버스', '신유빈 김운용 여성체육', '김지니 이나무', '바이든 트럼프', '성범죄 힘찬', '몰라보겠어 능청 돌연', '이언주 민주당']\n"
     ]
    }
   ],
   "source": [
    "CSS_PATH = '#app > div > main > div > section > div > section > section:nth-child(2) > div:nth-child(2) > div > div > div > a > span.rank-text'\n",
    "naver_results = driver.find_elements(By.CSS_SELECTOR, CSS_PATH)\n",
    "naver_list = []\n",
    "for naver_result in naver_results:\n",
    "    print(naver_result.text)\n",
    "    naver_list.append(naver_result.text)\n",
    "print(\"\")\n",
    "print(naver_list)"
   ]
  },
  {
   "cell_type": "code",
   "execution_count": 21,
   "id": "d5cdfb21-f0ec-4d04-8232-8c2a3769d3f2",
   "metadata": {},
   "outputs": [
    {
     "name": "stdout",
     "output_type": "stream",
     "text": [
      "['6_제22대 모의개표', '7_카카오엔터 파워 선정', '8_주호민 특수교사 유죄', '9_이태원참사 특별법 거부', '10_전청조 남현희 사랑해', '1_문경 화재 비대위원장', '2_흉기난동 최원종에 무기징역', '3_중대재해처벌법 유예 반대', '4_김지니 이나무', '5_김성수 카카오엔터 대표']\n"
     ]
    }
   ],
   "source": [
    "import time\n",
    "from selenium import webdriver\n",
    "from selenium.webdriver.chrome.service import Service\n",
    "from selenium.webdriver.common.by import By\n",
    "\n",
    "CHROME_DRIVER_PATH = './drivers/chromedriver.exe'\n",
    "service = Service(executable_path=CHROME_DRIVER_PATH)\n",
    "options = webdriver.ChromeOptions()\n",
    "driver = webdriver.Chrome(service=service, options=options)\n",
    "\n",
    "nate_list_1st = []\n",
    "nate_list_2nd = []\n",
    "for i in range(2):\n",
    "    URL='https://www.nate.com'\n",
    "    driver.get(url=URL) \n",
    "    rank_results = driver.find_elements(By.CSS_SELECTOR,'#olLiveIssueKeyword > li > span.num_rank')\n",
    "    nate_results = driver.find_elements(By.CSS_SELECTOR,'#olLiveIssueKeyword > li > a > span.txt_rank')\n",
    "    for rank, keyword in zip(rank_results, nate_results):\n",
    "        if i == 0:\n",
    "            nate_list_1st.append(f'{rank.text}_{keyword.text}')\n",
    "        elif i == 1:\n",
    "            nate_list_2nd.append(f'{rank.text}_{keyword.text}')\n",
    "    time.sleep(8)\n",
    "    driver.refresh()\n",
    "result = nate_list_1st + nate_list_2nd\n",
    "\n",
    "print(result)\n",
    "driver.quit()"
   ]
  },
  {
   "cell_type": "code",
   "execution_count": 42,
   "id": "34285b83-cff3-4daa-9f10-d5f32f434da7",
   "metadata": {},
   "outputs": [
    {
     "name": "stdout",
     "output_type": "stream",
     "text": [
      "https://www.ppomppu.co.kr/zboard/zboard.php?id=ppomppu&page=2&divpage=85\n",
      "https://www.ppomppu.co.kr/zboard/zboard.php?id=ppomppu&page=3&divpage=85\n",
      "https://www.ppomppu.co.kr/zboard/zboard.php?id=ppomppu&page=4&divpage=85\n",
      "https://www.ppomppu.co.kr/zboard/zboard.php?id=ppomppu&page=5&divpage=85\n",
      "https://www.ppomppu.co.kr/zboard/zboard.php?id=ppomppu&page=6&divpage=85\n",
      "https://www.ppomppu.co.kr/zboard/zboard.php?id=ppomppu&page=7&divpage=85\n",
      "https://www.ppomppu.co.kr/zboard/zboard.php?id=ppomppu&page=8&divpage=85\n",
      "https://www.ppomppu.co.kr/zboard/zboard.php?id=ppomppu&page=9&divpage=85\n"
     ]
    }
   ],
   "source": [
    "from selenium import webdriver\n",
    "from selenium.webdriver.chrome.service import Service\n",
    "from selenium.webdriver.common.by import By\n",
    "import pandas as pd\n",
    "import time\n",
    "import random\n",
    "\n",
    "def page1_crawling(driver):\n",
    "    titles = []\n",
    "    urls = []\n",
    "    start_num = 9\n",
    "    end_num = 47\n",
    "    for i in range(start_num, end_num + 1, 2):\n",
    "        title_css_path = '#revolution_main_table > tbody > tr:nth-child(' + str(i) + ') > td:nth-child(3) > table > tbody > tr > td:nth-child(2) > div > a > font'\n",
    "        titles.append(driver.find_element(By.CSS_SELECTOR, title_css_path).text)\n",
    "        \n",
    "        url_css_path = '#revolution_main_table > tbody > tr:nth-child(' + str(i) + ') > td:nth-child(3) > table > tbody > tr > td:nth-child(2) > div > a'\n",
    "        urls.append(driver.find_element(By.CSS_SELECTOR, url_css_path).get_attribute('href'))\n",
    "\n",
    "    return pd.DataFrame({\"title\": titles, \"urls\": urls})\n",
    "\n",
    "def other_crawling(driver):\n",
    "    titles = []\n",
    "    urls = []\n",
    "    start_num = 6\n",
    "    end_num = 44\n",
    "    #revolution_main_table > tbody > tr:nth-child(6) > td:nth-child(3) > table > tbody > tr > td:nth-child(2) > div > a > font\n",
    "    #revolution_main_table > tbody > tr:nth-child(8) > td:nth-child(3) > table > tbody > tr > td:nth-child(2) > div > a > font\n",
    "    #revolution_main_table > tbody > tr:nth-child(44) > td:nth-child(3) > table > tbody > tr > td:nth-child(2) > div > a > font\n",
    "    for i in range(start_num, end_num + 1, 2):\n",
    "        title_css_path = '#revolution_main_table > tbody > tr:nth-child(' + str(i) + ') > td:nth-child(3) > table > tbody > tr > td:nth-child(2) > div > a > font'\n",
    "        titles.append(driver.find_element(By.CSS_SELECTOR, title_css_path).text)\n",
    "        \n",
    "        url_css_path = '#revolution_main_table > tbody > tr:nth-child(' + str(i) + ') > td:nth-child(3) > table > tbody > tr > td:nth-child(2) > div > a'\n",
    "        urls.append(driver.find_element(By.CSS_SELECTOR, url_css_path).get_attribute('href'))\n",
    "\n",
    "    return pd.DataFrame({\"title\": titles, \"urls\": urls})\n",
    "\n",
    "def main():\n",
    "    CHROME_DRIVER_PATH = './drivers/chromedriver.exe'\n",
    "    service = Service(executable_path=CHROME_DRIVER_PATH)\n",
    "    options = webdriver.ChromeOptions()\n",
    "    driver = webdriver.Chrome(service=service, options=options)\n",
    "\n",
    "    URL = 'https://www.ppomppu.co.kr/zboard/zboard.php?id=ppomppu&page=1&divpage=85'\n",
    "    driver.get(url=URL)\n",
    "    df = page1_crawling(driver)\n",
    "    for i in range(2, 10):\n",
    "        URL = 'https://www.ppomppu.co.kr/zboard/zboard.php?id=ppomppu&page='+ str(i) + '&divpage=85'\n",
    "        print(URL)\n",
    "        driver.get(url=URL)\n",
    "        df = pd.concat([df, other_crawling(driver)], ignore_index=True)\n",
    "        time.sleep(random.uniform(2, 5))   # 2 ~ 5초 무작위로 설정\n",
    "        \n",
    "    df.to_csv(\"핫딜.csv\", index=False)\n",
    "    driver.quit()\n",
    "    \n",
    "if __name__ == \"__main__\":\n",
    "    main()"
   ]
  }
 ],
 "metadata": {
  "kernelspec": {
   "display_name": "Python 3 (ipykernel)",
   "language": "python",
   "name": "python3"
  },
  "language_info": {
   "codemirror_mode": {
    "name": "ipython",
    "version": 3
   },
   "file_extension": ".py",
   "mimetype": "text/x-python",
   "name": "python",
   "nbconvert_exporter": "python",
   "pygments_lexer": "ipython3",
   "version": "3.11.5"
  }
 },
 "nbformat": 4,
 "nbformat_minor": 5
}
